{
 "cells": [
  {
   "cell_type": "code",
   "execution_count": 1,
   "metadata": {
    "collapsed": false
   },
   "outputs": [
    {
     "name": "stdout",
     "output_type": "stream",
     "text": [
      "Time Taken to create lists: 16.5566530228 secs\n",
      "Time Taken to load data: 9.11194586754 secs\n"
     ]
    }
   ],
   "source": [
    "# 1 Create and insert 'nodes' Table, into London SQL database \n",
    "\n",
    "import sqlite3\n",
    "import csv\n",
    "from pprint import pprint\n",
    "from time import time\n",
    "\n",
    "\n",
    "sqlite_file = 'LondonDB.db'\n",
    "conn = sqlite3.connect(sqlite_file)\n",
    "cursor = conn.cursor()\n",
    "\n",
    "t0 = time()\n",
    "\n",
    "\n",
    "# Check if the table already exists, drop it if it does\n",
    "cursor.execute('DROP TABLE IF EXISTS nodes;')\n",
    "conn.commit()\n",
    "\n",
    "cursor.execute('''\n",
    "    CREATE TABLE IF NOT EXISTS nodes(id INTEGER PRIMARY KEY, lat REAL, \n",
    "    lon REAL, user TEXT, uid INTEGER, version TEXT, changeset INTEGER, timestamp DATE)\n",
    "''')\n",
    "\n",
    "conn.commit()\n",
    "\n",
    "# Read data\n",
    "with open('nodes.csv','rb') as fin:\n",
    "    dr = csv.DictReader(fin) \n",
    "    to_db=[(i['id'],i['lat'],i['lon'],i['user'].decode(\"utf-8\"),i['uid'],i['version'],i['changeset'],i['timestamp']) for i in dr]\n",
    "\n",
    "print \"Time Taken to create lists: {} secs\".format(time()-t0)\n",
    "\n",
    "t0 = time()\n",
    "\n",
    "# Insert data\n",
    "cursor.executemany(\"INSERT INTO nodes(id, lat, lon, user, uid, version, changeset, timestamp) VALUES (?, ?, ?, ?,?, ?, ?, ?);\", to_db)\n",
    "conn.commit()\n",
    "print \"Time Taken to load data: {} secs\".format(time()-t0)\n",
    "\n",
    "'''\n",
    "\n",
    "# Check correcrt import\n",
    "cursor.execute('SELECT * FROM nodes')\n",
    "all_rows = cursor.fetchall()\n",
    "print('1):')\n",
    "pprint.pprint(all_rows)\n",
    "'''\n",
    "\n",
    "conn.close()\n"
   ]
  },
  {
   "cell_type": "code",
   "execution_count": 4,
   "metadata": {
    "collapsed": false
   },
   "outputs": [
    {
     "name": "stdout",
     "output_type": "stream",
     "text": [
      "Time Taken to create lists: 6.54133009911 secs\n",
      "Time Taken to load data: 3.06277608871 secs\n"
     ]
    }
   ],
   "source": [
    "# 2 Create and insert 'nodes_tags' Table, into London SQL database \n",
    "\n",
    "import sqlite3\n",
    "import csv\n",
    "from pprint import pprint\n",
    "from time import time\n",
    "\n",
    "\n",
    "sqlite_file = 'LondonDB.db'\n",
    "conn = sqlite3.connect(sqlite_file)\n",
    "cursor = conn.cursor()\n",
    "\n",
    "t0 = time()\n",
    "\n",
    "# Check if the table already exists, drop it if it does\n",
    "cursor.execute('''DROP TABLE IF EXISTS nodes_tags;''')\n",
    "conn.commit()\n",
    "\n",
    "# Create the table\n",
    "cursor.execute('''CREATE TABLE IF NOT EXISTS nodes_tags(id INTEGER, key TEXT, value TEXT,type TEXT)\n",
    "''')\n",
    "conn.commit()\n",
    "\n",
    "# Read data\n",
    "with open('nodes_tags.csv','rb') as fin:\n",
    "    dr = csv.DictReader(fin) \n",
    "    to_db=[(i['id'],i['key'],i['value'].decode(\"utf-8\"),i['type']) for i in dr]\n",
    "\n",
    "print \"Time Taken to create lists: {} secs\".format(time()-t0)\n",
    "\n",
    "t0 = time()\n",
    "    \n",
    "# Insert data\n",
    "cursor.executemany(\"INSERT INTO nodes_tags(id, key, value,type) VALUES (?, ?, ?, ?);\", to_db)\n",
    "conn.commit()\n",
    "\n",
    "print \"Time Taken to load data: {} secs\".format(time()-t0)\n",
    "\n",
    "'''\n",
    "# Check correct import\n",
    "cursor.execute('SELECT * FROM nodes_tags')\n",
    "all_rows = cursor.fetchall()\n",
    "print('1):')\n",
    "pprint.pprint(all_rows)\n",
    "'''\n",
    "\n",
    "conn.close()"
   ]
  },
  {
   "cell_type": "code",
   "execution_count": 5,
   "metadata": {
    "collapsed": false
   },
   "outputs": [
    {
     "name": "stdout",
     "output_type": "stream",
     "text": [
      "Time Taken to create lists: 2.74936199188 secs\n",
      "Time Taken to load data: 1.52981305122 secs\n"
     ]
    }
   ],
   "source": [
    "# 3 Create and insert 'ways' Table, into London SQL database \n",
    "\n",
    "import sqlite3\n",
    "import csv\n",
    "from pprint import pprint\n",
    "from time import time\n",
    "\n",
    "sqlite_file = 'LondonDB.db'\n",
    "conn = sqlite3.connect(sqlite_file)\n",
    "cursor = conn.cursor()\n",
    "\n",
    "t0 = time()\n",
    "\n",
    "# Check if the table already exists, drop it if it does\n",
    "cursor.execute('''DROP TABLE IF EXISTS ways;''')\n",
    "conn.commit()\n",
    "\n",
    "cursor.execute('''\n",
    "    CREATE TABLE IF NOT EXISTS ways(id INTEGER PRIMARY KEY, user TEXT, uid INTEGER, version TEXT, changeset INTEGER, timestamp DATE)\n",
    "''')\n",
    "conn.commit()\n",
    "\n",
    "# Read data\n",
    "with open('ways.csv','rb') as fin:\n",
    "    dr = csv.DictReader(fin) \n",
    "    to_db=[(i['id'],i['user'].decode(\"utf-8\"),i['uid'],i['version'],i['changeset'],i['timestamp']) for i in dr]\n",
    "\n",
    "print \"Time Taken to create lists: {} secs\".format(time()-t0)\n",
    "\n",
    "t0 = time()\n",
    "    \n",
    "# Insert data\n",
    "cursor.executemany(\"INSERT INTO ways(id, user, uid, version, changeset, timestamp) VALUES (?, ?,?, ?, ?, ?);\", to_db)\n",
    "conn.commit()\n",
    "\n",
    "print \"Time Taken to load data: {} secs\".format(time()-t0)\n",
    "\n",
    "\n",
    "'''\n",
    "# Check correct import\n",
    "cursor.execute('SELECT * FROM ways')\n",
    "all_rows = cursor.fetchall()\n",
    "print('1):')\n",
    "pprint.pprint(all_rows)\n",
    "'''\n",
    "\n",
    "\n",
    "conn.close()\n"
   ]
  },
  {
   "cell_type": "code",
   "execution_count": 6,
   "metadata": {
    "collapsed": false
   },
   "outputs": [
    {
     "name": "stdout",
     "output_type": "stream",
     "text": [
      "Time Taken to create lists: 12.3907339573 secs\n",
      "Time Taken to load data: 6.97501897812 secs\n"
     ]
    }
   ],
   "source": [
    "# 4 Create and insert 'ways_nodes' Table, into London SQL database \n",
    "\n",
    "import sqlite3\n",
    "import csv\n",
    "from pprint import pprint\n",
    "from time import time\n",
    "\n",
    "sqlite_file = 'LondonDB.db'\n",
    "conn = sqlite3.connect(sqlite_file)\n",
    "cursor = conn.cursor()\n",
    "\n",
    "t0 = time()\n",
    "\n",
    "# Check if the table already exists, drop it if it does\n",
    "cursor.execute('''DROP TABLE IF EXISTS ways_nodes;''')\n",
    "conn.commit()\n",
    "\n",
    "# Create the table\n",
    "cursor.execute('''CREATE TABLE IF NOT EXISTS ways_nodes(id INTEGER, node_id INTEGER, position INTEGER)\n",
    "''')\n",
    "conn.commit()\n",
    "\n",
    "# Read data\n",
    "with open('ways_nodes.csv','rb') as fin:\n",
    "    dr = csv.DictReader(fin) \n",
    "    to_db=[(i['id'],i['node_id'],i['position']) for i in dr]\n",
    "\n",
    "print \"Time Taken to create lists: {} secs\".format(time()-t0)\n",
    "\n",
    "t0 = time()\n",
    "\n",
    "# Insert data\n",
    "cursor.executemany(\"INSERT INTO ways_nodes(id, node_id, position) VALUES (?, ?, ?);\", to_db)\n",
    "conn.commit()\n",
    "\n",
    "print \"Time Taken to load data: {} secs\".format(time()-t0)\n",
    "\n",
    "\n",
    "'''\n",
    "# Check correct import\n",
    "cursor.execute('SELECT * FROM ways_nodes')\n",
    "all_rows = cursor.fetchall()\n",
    "print('1):')\n",
    "pprint.pprint(all_rows)\n",
    "'''\n",
    "\n",
    "conn.close()"
   ]
  },
  {
   "cell_type": "code",
   "execution_count": 7,
   "metadata": {
    "collapsed": false
   },
   "outputs": [
    {
     "name": "stdout",
     "output_type": "stream",
     "text": [
      "Time Taken to create lists: 8.01795601845 secs\n",
      "Time Taken to load data: 3.60761904716 secs\n"
     ]
    }
   ],
   "source": [
    "# 5 Create and insert 'ways_tags' Table, into London SQL database \n",
    "\n",
    "import sqlite3\n",
    "import csv\n",
    "from pprint import pprint\n",
    "from time import time\n",
    "\n",
    "sqlite_file = 'LondonDB.db'\n",
    "conn = sqlite3.connect(sqlite_file)\n",
    "cursor = conn.cursor()\n",
    "\n",
    "t0 = time()\n",
    "\n",
    "# Check if the table already exists, drop it if it does\n",
    "cursor.execute('''DROP TABLE IF EXISTS ways_tags;''')\n",
    "conn.commit()\n",
    "\n",
    "# Create the table\n",
    "cursor.execute('''CREATE TABLE IF NOT EXISTS ways_tags(id INTEGER, key TEXT, value TEXT,type TEXT)\n",
    "''')\n",
    "conn.commit()\n",
    "\n",
    "# Read data\n",
    "with open('ways_tags.csv','rb') as fin:\n",
    "    dr = csv.DictReader(fin) \n",
    "    to_db=[(i['id'],i['key'],i['value'].decode(\"utf-8\"),i['type']) for i in dr]\n",
    "\n",
    "print \"Time Taken to create lists: {} secs\".format(time()-t0)\n",
    "\n",
    "t0 = time()\n",
    "    \n",
    "# Insert data\n",
    "cursor.executemany(\"INSERT INTO ways_tags(id, key, value,type) VALUES (?, ?, ?, ?);\", to_db)\n",
    "conn.commit()\n",
    "\n",
    "print \"Time Taken to load data: {} secs\".format(time()-t0)\n",
    "\n",
    "'''\n",
    "# Check correct import\n",
    "cursor.execute('SELECT * FROM ways_tags')\n",
    "all_rows = cursor.fetchall()\n",
    "print('1):')\n",
    "pprint.pprint(all_rows)\n",
    "'''\n",
    "\n",
    "conn.close()"
   ]
  },
  {
   "cell_type": "code",
   "execution_count": null,
   "metadata": {
    "collapsed": true
   },
   "outputs": [],
   "source": []
  }
 ],
 "metadata": {
  "kernelspec": {
   "display_name": "Python 2",
   "language": "python",
   "name": "python2"
  },
  "language_info": {
   "codemirror_mode": {
    "name": "ipython",
    "version": 2
   },
   "file_extension": ".py",
   "mimetype": "text/x-python",
   "name": "python",
   "nbconvert_exporter": "python",
   "pygments_lexer": "ipython2",
   "version": "2.7.12"
  }
 },
 "nbformat": 4,
 "nbformat_minor": 0
}
